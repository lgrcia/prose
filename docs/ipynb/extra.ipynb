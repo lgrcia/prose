{
    "cells": [
        {
            "cell_type": "code",
            "execution_count": null,
            "metadata": {},
            "outputs": [],
            "source": [
                "import numpy as np\n",
                "from prose import FITSImage, Sequence, blocks\n",
                "\n",
                "# reference is middle image\n",
                "ref = FITSImage(sciences[len(sciences)//2])\n",
                "\n",
                "calibration = Sequence([\n",
                "    blocks.Calibration(darks=darks, bias=bias, flats=flats),\n",
                "    blocks.Trim(),\n",
                "    blocks.PointSourceDetection(n=20), # stars detection\n",
                "    blocks.Cutouts(21),                # stars cutouts\n",
                "    blocks.MedianEPSF(),               # building EPSF\n",
                "    blocks.psf.Moffat2D(),             # modeling EPSF\n",
                "])\n",
                "\n",
                "calibration.run(ref, show_progress=False)\n",
                "radii = np.linspace(0.2, 8, 30)\n",
                "calibration[2].n = 15  # only 15 stars for alignment\n",
                "\n",
                "photometry = Sequence([\n",
                "    *calibration,                           # calibration\n",
                "    blocks.AlignReferenceSources(ref),      # alignment\n",
                "    blocks.CentroidQuadratic(),             # centroiding\n",
                "    blocks.AperturePhotometry(radii=radii), # aperture photometry\n",
                "    blocks.AnnulusBackground(),\n",
                "    blocks.GetFluxes(\"fwhm\",\"keyword:AIRMASS\")]\n",
                ")\n",
                "\n",
                "photometry.run(sciences)"
            ]
        },
        {
            "cell_type": "code",
            "execution_count": null,
            "metadata": {},
            "outputs": [],
            "source": [
                "from prose import FITSImage, Sequence, blocks\n",
                "\n",
                "image = FITSImage(\"2002MS4_Artemis_clear_2x2bin-0525.fit\")\n",
                "\n",
                "sequence = Sequence([\n",
                "    blocks.PointSourceDetection(),  # stars detection\n",
                "    blocks.Cutouts(21),             # cutouts extraction\n",
                "    blocks.MedianEPSF(),            # PSF building\n",
                "    blocks.Moffat2D(),              # PSF modeling\n",
                "])\n",
                "\n",
                "sequence.run([image])\n",
                "\n",
                "# plotting the detected stars\n",
                "image.show()"
            ]
        }
    ],
    "metadata": {
        "language_info": {
            "name": "python"
        },
        "mystnb": {
            "execution_mode": "off"
        },
        "orig_nbformat": 4
    },
    "nbformat": 4,
    "nbformat_minor": 2
}