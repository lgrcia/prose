{
    "cells": [
        {
            "attachments": {},
            "cell_type": "markdown",
            "metadata": {},
            "source": [
                "# Core objects\n",
                "\n",
                "```{image} ../_static/core.png\n",
                ":width: 400 px\n",
                ":align: center\n",
                "```\n",
                "\n",
                "A *pipeline*, strictly speaking, is a series of connected tubes running a fluid. In the scientific literature, the word refers to [processing pipelines](https://en.wikipedia.org/wiki/Pipeline_(computing)) in which data are flowing, going through processing units as in tubes.\n",
                "\n",
                "*prose* contains the structure to build modular image processing pipelines with three key objects: [Image](prose.Image) going through a list of [Block](prose.Block) assembled into a [Sequence](prose.Sequence).\n",
                "\n",
                "\n",
                "## Main objects\n",
                "\n",
                "- An [Image](prose.Image) contains the image data and metadata\n",
                "\n",
                "```{image} ../_static/image.png\n",
                ":width: 280 px\n",
                ":align: center\n",
                "```\n",
                "\n",
                "- A [Block](prose.Block) is a single unit of processing acting on the [Image](prose.Image) object, which can |read| and |write| its attributes, or |modify|.\n",
                "\n",
                "- A [Sequence](prose.Sequence) is a succession of [Block](prose.Block).\n",
                "\n",
                "With this architecture *prose* can deal with any type of image (especially FITS images)\n",
                "\n",
                "## Example: Hello World\n",
                "\n",
                "Let's create a random set of images"
            ]
        },
        {
            "cell_type": "code",
            "execution_count": 1,
            "metadata": {},
            "outputs": [
                {
                    "name": "stderr",
                    "output_type": "stream",
                    "text": [
                        "/Users/lgrcia/code/prose3/prose/core/sequence.py:1: TqdmExperimentalWarning: Using `tqdm.autonotebook.tqdm` in notebook mode. Use `tqdm.tqdm` instead to force console mode (e.g. in jupyter console)\n",
                        "  from tqdm.autonotebook import tqdm\n"
                    ]
                }
            ],
            "source": [
                "from prose import Image, Block, Sequence\n",
                "import numpy as np\n",
                "\n",
                "np.random.seed(42)\n",
                "images = [Image(data=np.random.rand(10,10)) for i in range(5)]"
            ]
        },
        {
            "cell_type": "markdown",
            "metadata": {},
            "source": [
                "Here is a block printing hello world and the image mean"
            ]
        },
        {
            "cell_type": "code",
            "execution_count": 2,
            "metadata": {},
            "outputs": [],
            "source": [
                "class HelloWorld(Block):\n",
                "    def run(self, image):\n",
                "        image.mean = np.mean(image.data)\n",
                "        print(f\"Hello world (mean: {image.mean:.2f})\")"
            ]
        },
        {
            "attachments": {},
            "cell_type": "markdown",
            "metadata": {},
            "source": [
                "and running a sequence with it"
            ]
        },
        {
            "cell_type": "code",
            "execution_count": 4,
            "metadata": {},
            "outputs": [
                {
                    "data": {
                        "application/vnd.jupyter.widget-view+json": {
                            "model_id": "e68a1e5a9d594c26aebcb616b9c52567",
                            "version_major": 2,
                            "version_minor": 0
                        },
                        "text/plain": [
                            "  0%|          | 0/5 [00:00<?, ?images/s]"
                        ]
                    },
                    "metadata": {},
                    "output_type": "display_data"
                },
                {
                    "name": "stdout",
                    "output_type": "stream",
                    "text": [
                        "Hello world (mean: 0.47)\n",
                        "Hello world (mean: 0.50)\n",
                        "Hello world (mean: 0.52)\n",
                        "Hello world (mean: 0.49)\n",
                        "Hello world (mean: 0.52)\n"
                    ]
                }
            ],
            "source": [
                "sequence = Sequence([\n",
                "    HelloWorld(),\n",
                "])\n",
                "\n",
                "sequence.run(images)"
            ]
        }
    ],
    "metadata": {
        "kernelspec": {
            "display_name": "prose3",
            "language": "python",
            "name": "python3"
        },
        "language_info": {
            "codemirror_mode": {
                "name": "ipython",
                "version": 3
            },
            "file_extension": ".py",
            "mimetype": "text/x-python",
            "name": "python",
            "nbconvert_exporter": "python",
            "pygments_lexer": "ipython3",
            "version": "3.10.9 (main, Jan 11 2023, 09:18:20) [Clang 14.0.6 ]"
        },
        "orig_nbformat": 4,
        "vscode": {
            "interpreter": {
                "hash": "75877e4ba96c35caac37ed872b33bb6f9b97815e438708d922c05a66c04690ae"
            }
        }
    },
    "nbformat": 4,
    "nbformat_minor": 2
}